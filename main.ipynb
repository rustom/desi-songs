{
 "cells": [
  {
   "cell_type": "code",
   "execution_count": 4,
   "metadata": {},
   "outputs": [
    {
     "data": {
      "text/plain": [
       "True"
      ]
     },
     "execution_count": 4,
     "metadata": {},
     "output_type": "execute_result"
    }
   ],
   "source": [
    "import spotipy\n",
    "from spotipy.oauth2 import SpotifyClientCredentials, SpotifyOAuth\n",
    "import os\n",
    "from dotenv import load_dotenv\n",
    "from collections import defaultdict\n",
    "\n",
    "load_dotenv()\n",
    "\n",
    "# spotify = spotipy.Spotify(client_credentials_manager=SpotifyClientCredentials())\n",
    "# auth_manager = SpotifyClientCredentials()\n",
    "# sp = spotipy.Spotify(auth_manager=auth_manager)\n",
    "\n",
    "# playlists = sp.user_playlists('shidoarichimorin')\n",
    "# while playlists:\n",
    "#     for i, playlist in enumerate(playlists['items']):\n",
    "#         print(\"%4d %s %s\" % (i + 1 + playlists['offset'], playlist['uri'],  playlist['name']))\n",
    "#     if playlists['next']:\n",
    "#         playlists = sp.next(playlists)\n",
    "#     else:\n",
    "#         playlists = None"
   ]
  },
  {
   "cell_type": "code",
   "execution_count": 32,
   "metadata": {},
   "outputs": [],
   "source": [
    "genre_artists = defaultdict(set)\n",
    "# max limit step for rate limiter\n",
    "limit_step = 50\n",
    "\n",
    "indian_genres = {'desi hip hop', 'desi pop', 'indian electronic', 'indian indie', 'indian instrumental', 'modern bollywood', 'classic bollywood', 'filmi'}\n",
    "indian_songs = set()"
   ]
  },
  {
   "cell_type": "code",
   "execution_count": 34,
   "metadata": {},
   "outputs": [],
   "source": [
    "scope = \"user-library-read\"\n",
    "\n",
    "sp = spotipy.Spotify(auth_manager=SpotifyOAuth(scope=scope))\n",
    "\n",
    "for offset in range(0, 1550, 50): \n",
    "    results = sp.current_user_saved_tracks(limit=limit_step, offset=offset)\n",
    "    for idx, item in enumerate(results['items']):\n",
    "        # print(item['track']['artists'][0]['uri'])\n",
    "        # print(item['track']['artists'][0]['name'])\n",
    "        artist_name = item['track']['artists'][0]['name']\n",
    "        artist_uri = item['track']['artists'][0]['uri']\n",
    "        track_name = item['track']['name']\n",
    "        # print(track_name)\n",
    "\n",
    "        genres = sp.artist(artist_uri)['genres']\n",
    "        for genre in genres: \n",
    "        #     genre_artists[genre].add(artist_name)\n",
    "            if genre in indian_genres: \n",
    "                indian_songs.add(track_name)"
   ]
  },
  {
   "cell_type": "code",
   "execution_count": 35,
   "metadata": {},
   "outputs": [
    {
     "data": {
      "text/plain": [
       "{'Babuji Dhere Chalna (From \"Aar Paar\")',\n",
       " 'Ban Ja Rani',\n",
       " 'Bom Diggy',\n",
       " 'Chand Sifarish',\n",
       " 'Deewangi Deewangi',\n",
       " 'Floated By',\n",
       " 'I Love You Baby, I Love You Doll',\n",
       " 'Ik Vaari Aa',\n",
       " 'Kesariya',\n",
       " 'Memory Box',\n",
       " 'Milegi Milegi',\n",
       " 'Mundian to Bach Ke',\n",
       " 'Phone',\n",
       " 'Senjitaley',\n",
       " 'Tu Meri',\n",
       " 'Tum Hi Ho',\n",
       " 'Tunak Tunak Tun',\n",
       " 'Where the Money Flows'}"
      ]
     },
     "execution_count": 35,
     "metadata": {},
     "output_type": "execute_result"
    }
   ],
   "source": [
    "indian_songs"
   ]
  },
  {
   "cell_type": "code",
   "execution_count": 36,
   "metadata": {},
   "outputs": [],
   "source": [
    "keys = list(genre_artists.keys())\n",
    "keys.sort()\n",
    "for key in keys: \n",
    "    print(key)"
   ]
  },
  {
   "cell_type": "code",
   "execution_count": null,
   "metadata": {},
   "outputs": [],
   "source": []
  }
 ],
 "metadata": {
  "kernelspec": {
   "display_name": "Python 3.8.5 ('base')",
   "language": "python",
   "name": "python3"
  },
  "language_info": {
   "codemirror_mode": {
    "name": "ipython",
    "version": 3
   },
   "file_extension": ".py",
   "mimetype": "text/x-python",
   "name": "python",
   "nbconvert_exporter": "python",
   "pygments_lexer": "ipython3",
   "version": "3.8.5"
  },
  "orig_nbformat": 4,
  "vscode": {
   "interpreter": {
    "hash": "9b0bee1d2004e17952c6ef238ff74e36f8786ffb1ba3a51a4bdde83bf6a72541"
   }
  }
 },
 "nbformat": 4,
 "nbformat_minor": 2
}
